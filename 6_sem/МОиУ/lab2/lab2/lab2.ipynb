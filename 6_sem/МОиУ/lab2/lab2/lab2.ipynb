{
 "cells": [
  {
   "cell_type": "markdown",
   "metadata": {
    "pycharm": {
     "name": "#%% md\n"
    }
   },
   "source": [
    "## Задание 1"
   ]
  },
  {
   "cell_type": "code",
   "execution_count": 2,
   "metadata": {
    "collapsed": false,
    "pycharm": {
     "name": "#%%\n"
    }
   },
   "outputs": [],
   "source": [
    "import math\n",
    "\n",
    "import numpy as np\n",
    "from matplotlib import pyplot\n",
    "from numpy import mean, var, std\n",
    "from scipy import stats\n",
    "from collections import Counter, OrderedDict\n",
    "\n",
    "\n",
    "def lcg(n):\n",
    "    \"\"\"\n",
    "    Linear congruential generator\n",
    "    \"\"\"\n",
    "    a = 1567\n",
    "    m = 68030\n",
    "    r = 2797\n",
    "    numbers = []\n",
    "\n",
    "    i = 0\n",
    "    while i < n:\n",
    "        r = (a * r) % m\n",
    "        numbers.insert(i, round(r / m, 4))\n",
    "        i += 1\n",
    "\n",
    "    return numbers\n",
    "\n",
    "\n",
    "def chi_square_test(observed, expected, alpha, dof):\n",
    "    result = 0\n",
    "\n",
    "    for i in range(len(observed)):\n",
    "        result = float(result) + (expected[i] - observed[i]) ** 2 / float(expected[i])\n",
    "\n",
    "    result *= len(observed)\n",
    "\n",
    "    critical_value = stats.chi2.ppf(1 - alpha, dof)\n",
    "\n",
    "    print(f'CHI_SQUARE_TEST')\n",
    "\n",
    "    print(f'result = {result}')\n",
    "\n",
    "    print(f'critical_value = {critical_value}')\n",
    "\n",
    "    if result < critical_value:\n",
    "        print(f'{result} < {critical_value} --> OK')\n",
    "    else:\n",
    "        print(f'{result} > {critical_value} --> FAIL')\n",
    "\n",
    "    return result, result < critical_value\n",
    "\n",
    "\n",
    "def get_interval_mu(gamma, mu, sigma, n):\n",
    "    t = stats.t.ppf(gamma, n - 1)\n",
    "    delta = t * sigma / np.sqrt(n)\n",
    "    return mu - delta, mu + delta\n",
    "\n",
    "\n",
    "def get_interval_sigma(gamma, sigma, n):\n",
    "    alpha1 = (1 - gamma) / 2.0\n",
    "    alpha2 = (1 + gamma) / 2.0\n",
    "\n",
    "    right_border = np.sqrt((n - 1) / stats.chi2.ppf(alpha1, n - 1)) * sigma\n",
    "    left_border = np.sqrt((n - 1) / stats.chi2.ppf(alpha2, n - 1)) * sigma\n",
    "\n",
    "    return left_border, right_border"
   ]
  },
  {
   "cell_type": "markdown",
   "metadata": {
    "collapsed": false,
    "pycharm": {
     "name": "#%% md\n"
    }
   },
   "source": [
    "### Экспоненциальное распределение\n",
    "![](images/exponential.png)"
   ]
  },
  {
   "cell_type": "code",
   "execution_count": 3,
   "metadata": {
    "collapsed": false,
    "pycharm": {
     "name": "#%%\n"
    }
   },
   "outputs": [
    {
     "name": "stdout",
     "output_type": "stream",
     "text": [
      "Экспоненциальное распределение:\n",
      "Мат. ожидание:  0.997726241310722\n",
      "Дисперсия:  0.9906486084708781\n",
      "Среднеквадратичное отклонение: 0.9953133217589716\n",
      "\n",
      "Доверительная вероятность == 0.99\n",
      "Доверительный интервал Мат. ожидания:  0.9904 < mu <  1.0050\n",
      "Доверительный интервал СКО:  0.9896 < sigma <  1.0011\n",
      "\n",
      "CHI_SQUARE_TEST\n",
      "result = 58.44479691606806\n",
      "critical_value = 246.09465845289168\n",
      "58.44479691606806 < 246.09465845289168 --> OK\n"
     ]
    },
    {
     "data": {
      "image/png": "[encoded data removed]",
      "text/plain": [
       "<Figure size 640x480 with 1 Axes>"
      ]
     },
     "metadata": {},
     "output_type": "display_data"
    }
   ],
   "source": [
    "def exponential_numbers(L, size):\n",
    "    numbers = lcg(size)\n",
    "    array = []\n",
    "    for num in numbers:\n",
    "        if 1 - num > 0:\n",
    "            array.append(((-1) / L) * (math.log(1 - num)))\n",
    "    return array\n",
    "\n",
    "\n",
    "def exponential_f(l, x):\n",
    "    return l * np.exp(-l * x)\n",
    "\n",
    "\n",
    "def get_exponential_expected(size, l, arguments):\n",
    "    expected = []\n",
    "\n",
    "    for i in range(size):\n",
    "        expected.append(exponential_f(l, arguments[i]))\n",
    "\n",
    "    return expected\n",
    "\n",
    "\n",
    "def exponential_distribution():\n",
    "    L = 1\n",
    "    size = 10 ** 5\n",
    "    exp = exponential_numbers(L, size)\n",
    "    exp_m = mean(exp)\n",
    "    exp_v = var(exp)\n",
    "    exp_s = std(exp)\n",
    "    probabilities, intervals, _ = pyplot.hist(exp, bins=200, density=True)\n",
    "    intervals = intervals[1:]\n",
    "    expected = get_exponential_expected(len(probabilities), L, intervals)\n",
    "    pyplot.title(\"Экспоненциальное распределение:\")\n",
    "    print(\"Экспоненциальное распределение:\")\n",
    "    print(\"Мат. ожидание: \", exp_m)\n",
    "    print(\"Дисперсия: \", exp_v)\n",
    "    print(f\"Среднеквадратичное отклонение: {exp_s}\\n\")\n",
    "    gamma = 0.99\n",
    "    print(f'Доверительная вероятность == {gamma}')\n",
    "    mu_left_border, mu_right_border = get_interval_mu(gamma, exp_m, exp_s, size)\n",
    "    print(f'Доверительный интервал Мат. ожидания: {mu_left_border : .4f} < mu < {mu_right_border : .4f}')\n",
    "    sigma_left_border, sigma_right_border = get_interval_sigma(gamma, exp_s, size)\n",
    "    print(f'Доверительный интервал СКО: {sigma_left_border : .4f} < sigma < {sigma_right_border : .4f}\\n')\n",
    "    chi_square_test(probabilities, expected, 0.01, len(intervals) - 3)\n",
    "\n",
    "exponential_distribution()\n",
    "pyplot.show()"
   ]
  },
  {
   "cell_type": "markdown",
   "metadata": {
    "collapsed": false,
    "pycharm": {
     "name": "#%% md\n"
    }
   },
   "source": [
    "### Равномерное распределение"
   ]
  },
  {
   "cell_type": "code",
   "execution_count": 4,
   "metadata": {
    "collapsed": false,
    "pycharm": {
     "name": "#%%\n"
    }
   },
   "outputs": [
    {
     "name": "stdout",
     "output_type": "stream",
     "text": [
      "Равномерное распределение:\n",
      "Мат. ожидание:  1.999631246\n",
      "Дисперсия:  0.33359456568888746\n",
      "Среднеквадратичное отклонение : 0.5775764587384837\n",
      "\n",
      "Доверительная вероятность == 0.99\n",
      "Доверительный интервал Мат. ожидания:  1.9954 < mu <  2.0039\n",
      "Доверительный интервал СКО:  0.5743 < sigma <  0.5809\n",
      "\n",
      "CHI_SQUARE_TEST\n",
      "result = 62.67937499999606\n",
      "critical_value = 190.93795718307996\n",
      "62.67937499999606 < 190.93795718307996 --> OK\n"
     ]
    },
    {
     "data": {
      "image/png": "[encoded data removed]",
      "text/plain": [
       "<Figure size 640x480 with 1 Axes>"
      ]
     },
     "metadata": {},
     "output_type": "display_data"
    }
   ],
   "source": [
    "def uniform_numbers(a, b, n):\n",
    "    numbers = lcg(n)\n",
    "    for i in range(len(numbers)):\n",
    "        numbers[i] = (a + (b - a) * numbers[i])\n",
    "    return numbers\n",
    "\n",
    "\n",
    "def uniform_f(a, b):\n",
    "    return 1.0 / (b - a)\n",
    "\n",
    "\n",
    "def get_uniform_expected(size, a, b):\n",
    "    expected = []\n",
    "\n",
    "    for _ in range(size):\n",
    "        expected.append(uniform_f(a, b))\n",
    "\n",
    "    return expected\n",
    "\n",
    "\n",
    "def uniform_distribution():\n",
    "    low = 1\n",
    "    high = 3\n",
    "    size = 10 ** 5\n",
    "    numbers = uniform_numbers(low, high, size)\n",
    "    uniform_m = mean(numbers)\n",
    "    uniform_v = var(numbers)\n",
    "    uniform_s = std(numbers)\n",
    "    probabilities, intervals, _ = pyplot.hist(numbers, bins=150, density=True)\n",
    "    expected = get_uniform_expected(len(probabilities), low, high)\n",
    "    pyplot.title(\"Равномерное распределение\")\n",
    "    print(\"Равномерное распределение:\")\n",
    "    print(\"Мат. ожидание: \", uniform_m)\n",
    "    print(\"Дисперсия: \", uniform_v)\n",
    "    print(f\"Среднеквадратичное отклонение : {uniform_s}\\n\")\n",
    "    gamma = 0.99\n",
    "    print(f'Доверительная вероятность == {gamma}')\n",
    "    mu_left_border, mu_right_border = get_interval_mu(gamma, uniform_m, uniform_s, size)\n",
    "    print(f'Доверительный интервал Мат. ожидания: {mu_left_border : .4f} < mu < {mu_right_border : .4f}')\n",
    "    sigma_left_border, sigma_right_border = get_interval_sigma(gamma, uniform_s, size)\n",
    "    print(f'Доверительный интервал СКО: {sigma_left_border : .4f} < sigma < {sigma_right_border : .4f}\\n')\n",
    "    chi_square_test(probabilities, expected, 0.01, len(intervals) - 3)\n",
    "\n",
    "uniform_distribution()\n",
    "pyplot.show()"
   ]
  },
  {
   "cell_type": "markdown",
   "metadata": {
    "collapsed": false,
    "pycharm": {
     "name": "#%% md\n"
    }
   },
   "source": [
    "## Задание 2 (вариант 12)\n",
    "## Равномерное прямоугольное распределение"
   ]
  },
  {
   "cell_type": "code",
   "execution_count": 5,
   "metadata": {
    "collapsed": false,
    "pycharm": {
     "name": "#%%\n"
    }
   },
   "outputs": [
    {
     "name": "stdout",
     "output_type": "stream",
     "text": [
      "Равномерное дискретное распределение:\n",
      "Мат. ожидание:  5.62873125\n",
      "Дисперсия:  2.9560900777734376\n",
      "Среднеквадратичное отклонение: 1.7193283798545982\n",
      "\n",
      "Доверительная вероятность == 0.99\n",
      "Доверительный интервал Мат. ожидания:  5.6247 < mu <  5.6327\n",
      "Доверительный интервал СКО:  1.7162 < sigma <  1.7225\n",
      "\n",
      "CHI_SQUARE_TEST\n",
      "result = 0.0020737640960000027\n",
      "critical_value = 15.08627246938899\n",
      "0.0020737640960000027 < 15.08627246938899 --> OK\n"
     ]
    },
    {
     "data": {
      "image/png": "[encoded data removed]",
      "text/plain": [
       "<Figure size 640x480 with 1 Axes>"
      ]
     },
     "metadata": {},
     "output_type": "display_data"
    }
   ],
   "source": [
    "def uniform_discrete_function(a, b, n):\n",
    "    numbers = {a + i * (b - a) / n: 1 / n for i in range(n)}\n",
    "    return numbers\n",
    "\n",
    "\n",
    "def uniform_discrete_numbers(a, b, n, function_values):\n",
    "    numbers = lcg(n)\n",
    "    arguments = list(function_values.keys())\n",
    "    arguments.sort()\n",
    "    res = []\n",
    "    for i in range(len(numbers)):\n",
    "        generated_number = a + (b - a) * numbers[i]\n",
    "        for j in range(len(arguments)):\n",
    "            if j == len(arguments) - 1 or arguments[j] < generated_number < arguments[j + 1]:\n",
    "                res.append(arguments[j])\n",
    "                break\n",
    "    return res\n",
    "\n",
    "\n",
    "def uniform_discrete_distribution():\n",
    "    a = 3\n",
    "    b = 9\n",
    "    size = 10 ** 6\n",
    "    discrete_number_size = 8\n",
    "    function_values = uniform_discrete_function(a, b, discrete_number_size)\n",
    "    numbers = uniform_discrete_numbers(a, b, size, function_values)\n",
    "    uniform_m = mean(numbers)\n",
    "    uniform_v = var(numbers)\n",
    "    uniform_s = std(numbers)\n",
    "    observed_values = OrderedDict({k: v / size for k, v in Counter(numbers).items()})\n",
    "    pyplot.bar(\n",
    "        observed_values.keys(),\n",
    "        observed_values.values(),\n",
    "        facecolor='#2ab0ff',\n",
    "        edgecolor='#000000',\n",
    "        width=2 / discrete_number_size\n",
    "    )\n",
    "    expected = list(function_values.values())\n",
    "    pyplot.title(\"Равномерное дискретное распределение\")\n",
    "    print(\"Равномерное дискретное распределение:\")\n",
    "    print(\"Мат. ожидание: \", uniform_m)\n",
    "    print(\"Дисперсия: \", uniform_v)\n",
    "    print(f\"Среднеквадратичное отклонение: {uniform_s}\\n\")\n",
    "    gamma = 0.99\n",
    "    print(f'Доверительная вероятность == {gamma}')\n",
    "    mu_left_border, mu_right_border = get_interval_mu(gamma, uniform_m, uniform_s, size)\n",
    "    print(f'Доверительный интервал Мат. ожидания: {mu_left_border : .4f} < mu < {mu_right_border : .4f}')\n",
    "    sigma_left_border, sigma_right_border = get_interval_sigma(gamma, uniform_s, size)\n",
    "    print(f'Доверительный интервал СКО: {sigma_left_border : .4f} < sigma < {sigma_right_border : .4f}\\n')\n",
    "    chi_square_test(list(observed_values.values()), expected, 0.01, len(observed_values) - 3)\n",
    "\n",
    "uniform_discrete_distribution()\n",
    "pyplot.show()"
   ]
  }
 ],
 "metadata": {
  "kernelspec": {
   "display_name": "Python 3.10.4 ('l2-aFjCxZE_')",
   "language": "python",
   "name": "python3"
  },
  "language_info": {
   "codemirror_mode": {
    "name": "ipython",
    "version": 3
   },
   "file_extension": ".py",
   "mimetype": "text/x-python",
   "name": "python",
   "nbconvert_exporter": "python",
   "pygments_lexer": "ipython3",
   "version": "3.10.4"
  },
  "orig_nbformat": 4,
  "vscode": {
   "interpreter": {
    "hash": "68e8ce95ac5660126c4d47479ab97ef20a8ee75bc5692a393d6831e7ae7194e9"
   }
  }
 },
 "nbformat": 4,
 "nbformat_minor": 2
}
