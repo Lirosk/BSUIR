{
 "cells": [
  {
   "cell_type": "code",
   "execution_count": 1,
   "metadata": {},
   "outputs": [],
   "source": [
    "import numpy as np\n",
    "from scipy import integrate\n",
    "import matplotlib.pyplot as plt"
   ]
  },
  {
   "cell_type": "code",
   "execution_count": 2,
   "metadata": {},
   "outputs": [],
   "source": [
    "k = 2\n",
    "a = np.sin(k)\n",
    "b = np.cos(k)"
   ]
  },
  {
   "cell_type": "code",
   "execution_count": 3,
   "metadata": {},
   "outputs": [],
   "source": [
    "A = -1\n",
    "B = 1"
   ]
  },
  {
   "cell_type": "code",
   "execution_count": 4,
   "metadata": {},
   "outputs": [],
   "source": [
    "def phi(i, x):\n",
    "    if i < 1:\n",
    "        return 0\n",
    "    return np.power(x, i-1)*(1-x*x)\n",
    "\n",
    "def ddphi(i, x):\n",
    "    if i < 1:\n",
    "        return 0\n",
    "    elif i == 1:\n",
    "        return -2\n",
    "    elif i == 2:\n",
    "        return -6*x \n",
    "    return (i-1)*(i-2)*x**(i-3)-i*(i+1)*x**(i-1) # -(i+1)*np.power(x, i-2)*(1+(2+i)*x*x)\n",
    "\n",
    "def q(x):\n",
    "    return (1+b*x*x)\n",
    "\n",
    "def f(x):\n",
    "    return -1\n",
    "    \n",
    "def y(x):\n",
    "    res = phi(0, x)\n",
    "    for i in range(len(ais)):\n",
    "        res += ais[i] * phi(i + 1, x)\n",
    "    return round(res, 3)\n",
    "\n",
    "# y(n, x) = phi(0, x) + a1*phi(1, x) + ... + an*phi(n, x)\n",
    "# ddy(n, x) = ddphi(0, x) + a1*ddphi(1, x) + ... + an*ddphi(n, x)\n",
    "# psi(x, a1, ..., an) = a*ddy(n, x) + q(x)*y(n, x) - f(x)"
   ]
  },
  {
   "cell_type": "markdown",
   "metadata": {},
   "source": [
    "Коллокации:"
   ]
  },
  {
   "cell_type": "code",
   "execution_count": 5,
   "metadata": {},
   "outputs": [],
   "source": [
    "def k(i, x):\n",
    "    return a * ddphi(i, x) + q(x) * phi(i, x)\n",
    "\n",
    "def c(x):\n",
    "    return f(x) - a * ddphi(0, x) - q(x) * phi(0, x) \n"
   ]
  },
  {
   "cell_type": "code",
   "execution_count": 6,
   "metadata": {},
   "outputs": [
    {
     "name": "stdout",
     "output_type": "stream",
     "text": [
      "first 10 of ai coeffs:\n",
      " [0.964, 0.0, -0.116, 0.0, 0.02, 0.0, -0.001, 0.0, 0.0, -0.0]\n",
      "\n",
      "some points of grid func:\n",
      "(x, y(x))\n",
      " [(-1.0, 0.0), (-0.98, 0.034), (-0.96, 0.069), (-0.939, 0.104), (-0.919, 0.137), (-0.899, 0.169), (-0.879, 0.202), (-0.859, 0.233), (-0.838, 0.266), (-0.818, 0.296)] ...\n",
      "... [(0.818, 0.296), (0.838, 0.266), (0.859, 0.233), (0.879, 0.202), (0.899, 0.169), (0.919, 0.137), (0.939, 0.104), (0.96, 0.069), (0.98, 0.034), (1.0, 0.0)]\n"
     ]
    },
    {
     "data": {
      "image/png": "[encoded data removed]",
      "text/plain": [
       "<Figure size 432x288 with 1 Axes>"
      ]
     },
     "metadata": {
      "needs_background": "light"
     },
     "output_type": "display_data"
    }
   ],
   "source": [
    "n = 100\n",
    "xs = [round(x, 3) for x in np.linspace(A, B, n)]\n",
    "\n",
    "syst = []\n",
    "vec = []\n",
    "\n",
    "for x in xs:\n",
    "    r = []\n",
    "    for i in range(n):\n",
    "        r.append(k(i+1, x))\n",
    "    syst.append(r)\n",
    "    vec.append(c(x))\n",
    "\n",
    "ais = np.linalg.solve(syst, vec)\n",
    "ys = [round(y(x), 3) for x in xs]\n",
    "ais = [round(a, 3) for a in ais]\n",
    "\n",
    "grid_func = list(zip(xs, ys))\n",
    "print(\"first 10 of ai coeffs:\\n\", list(ais[:10]))\n",
    "print()\n",
    "print(\"some points of grid func:\\n(x, y(x))\\n\", grid_func[:10], \"...\\n...\", grid_func[-10:] \n",
    "    if len(grid_func) > 10 \n",
    "    else grid_func)\n",
    "\n",
    "plt.plot(xs, ys, label=f\"n = {n}, [a, b] = [{A}, {B}]\")\n",
    "plt.title(\"Коллокаций\")\n",
    "plt.legend()\n",
    "plt.grid()\n",
    "plt.show()"
   ]
  },
  {
   "cell_type": "markdown",
   "metadata": {},
   "source": [
    "Галеркина:"
   ]
  },
  {
   "cell_type": "code",
   "execution_count": 7,
   "metadata": {},
   "outputs": [],
   "source": [
    "def k(i, j):\n",
    "    res = a * integrate.quad(lambda x: phi(i, x) * ddphi(j, x), A, B)[0] + \\\n",
    "            integrate.quad(lambda x: q(x) * phi(i, x) * phi(j, x), A, B)[0]\n",
    "    return res\n",
    "\n",
    "def c(i):\n",
    "    res = -(integrate.quad(lambda x: phi(i, x) * ddphi(0, x), A, B)[0] + \\\n",
    "            integrate.quad(lambda x: q(x) * phi(i, x) * phi(0, x), A, B)[0] + \\\n",
    "            integrate.quad(lambda x: phi(i, x), A, B)[0])\n",
    "    return res"
   ]
  },
  {
   "cell_type": "code",
   "execution_count": 8,
   "metadata": {},
   "outputs": [
    {
     "name": "stdout",
     "output_type": "stream",
     "text": [
      "first 10 of ai coeffs:\n",
      " [0.964, -0.0, -0.116, -0.0, 0.02, -0.0, -0.001, -0.0, -0.0, -0.0]\n",
      "\n",
      "some points of grid func:\n",
      "(x, y(x))\n",
      " [(-1.0, 0.0), (-0.98, 0.034), (-0.96, 0.069), (-0.939, 0.104), (-0.919, 0.137), (-0.899, 0.169), (-0.879, 0.202), (-0.859, 0.233), (-0.838, 0.266), (-0.818, 0.296)] ...\n",
      "... [(0.818, 0.296), (0.838, 0.266), (0.859, 0.233), (0.879, 0.202), (0.899, 0.169), (0.919, 0.137), (0.939, 0.104), (0.96, 0.069), (0.98, 0.034), (1.0, 0.0)]\n"
     ]
    },
    {
     "data": {
      "image/png": "[encoded data removed]",
      "text/plain": [
       "<Figure size 432x288 with 1 Axes>"
      ]
     },
     "metadata": {
      "needs_background": "light"
     },
     "output_type": "display_data"
    }
   ],
   "source": [
    "syst = []\n",
    "vec = []\n",
    "\n",
    "for i in range(1, n + 1):\n",
    "    r = []\n",
    "    for j in range(1, n + 1):\n",
    "        r.append(k(i, j))\n",
    "    syst.append(r)\n",
    "    vec.append(c(i))\n",
    "\n",
    "ais = np.linalg.solve(syst, vec)\n",
    "\n",
    "ais = np.linalg.solve(syst, vec)\n",
    "ys = [round(y(x), 3) for x in xs]\n",
    "ais = [round(a, 3) for a in ais]\n",
    "\n",
    "grid_func = list(zip(xs, ys))\n",
    "print(\"first 10 of ai coeffs:\\n\", list(ais[:10]))\n",
    "print()\n",
    "print(\"some points of grid func:\\n(x, y(x))\\n\", grid_func[:10], \"...\\n...\", grid_func[-10:] \n",
    "    if len(grid_func) > 10 \n",
    "    else grid_func)\n",
    "\n",
    "plt.plot(xs, ys, label=f\"n = {n}, [a, b] = [{A}, {B}]\")\n",
    "plt.title(\"Галеркина\")\n",
    "plt.legend()\n",
    "plt.grid()\n",
    "plt.show()"
   ]
  },
  {
   "cell_type": "markdown",
   "metadata": {},
   "source": [
    "Наименьших квадратов (дискретный):"
   ]
  },
  {
   "cell_type": "code",
   "execution_count": 9,
   "metadata": {},
   "outputs": [],
   "source": [
    "N = 2*n\n",
    "\n",
    "xs = [round(x, 3) for x in np.linspace(A, B, N)]"
   ]
  },
  {
   "cell_type": "code",
   "execution_count": 10,
   "metadata": {},
   "outputs": [],
   "source": [
    "def k(i, j):\n",
    "    res = 0\n",
    "    for x in xs:\n",
    "        res += (a * ddphi(i, x) + q(x)*phi(i, x)) * \\\n",
    "                (a * ddphi(j, x) + q(x) * phi(j, x))\n",
    "    res *= 2 \n",
    "    return res\n",
    "\n",
    "def c(i):\n",
    "    res = 0\n",
    "    for x in xs:\n",
    "        res += (a * ddphi(i, x) + q(x)*phi(i, x)) * \\\n",
    "                (a * ddphi(0, x) + q(x) * phi(0, x) + 1)\n",
    "    res *= -2 \n",
    "    return res"
   ]
  },
  {
   "cell_type": "code",
   "execution_count": 11,
   "metadata": {},
   "outputs": [
    {
     "name": "stdout",
     "output_type": "stream",
     "text": [
      "first 10 of ai coeffs:\n",
      " [0.964, -0.0, -0.116, 0.0, 0.02, -0.0, -0.001, 0.0, 0.0, -0.003]\n",
      "\n",
      "some points of grid func:\n",
      "(x, y(x))\n",
      " [(-1.0, 0.0), (-0.99, 0.017), (-0.98, 0.034), (-0.97, 0.052), (-0.96, 0.069), (-0.95, 0.085), (-0.94, 0.102), (-0.93, 0.119), (-0.92, 0.135), (-0.91, 0.152)] ...\n",
      "... [(0.91, 0.152), (0.92, 0.135), (0.93, 0.119), (0.94, 0.102), (0.95, 0.085), (0.96, 0.069), (0.97, 0.052), (0.98, 0.034), (0.99, 0.017), (1.0, 0.0)]\n"
     ]
    },
    {
     "data": {
      "image/png": "[encoded data removed]",
      "text/plain": [
       "<Figure size 432x288 with 1 Axes>"
      ]
     },
     "metadata": {
      "needs_background": "light"
     },
     "output_type": "display_data"
    }
   ],
   "source": [
    "syst = []\n",
    "vec = []\n",
    "\n",
    "for i in range(1, n + 1):\n",
    "    r = []\n",
    "    for j in range(1, n + 1):\n",
    "        r.append(k(i, j))\n",
    "    syst.append(r)\n",
    "    vec.append(c(i))\n",
    "\n",
    "ais = np.linalg.solve(syst, vec)\n",
    "\n",
    "ais = np.linalg.solve(syst, vec)\n",
    "ys = [round(y(x), 3) for x in xs]\n",
    "ais = [round(a, 3) for a in ais]\n",
    "\n",
    "grid_func = list(zip(xs, ys))\n",
    "print(\"first 10 of ai coeffs:\\n\", list(ais[:10]))\n",
    "print()\n",
    "print(\"some points of grid func:\\n(x, y(x))\\n\", grid_func[:10], \"...\\n...\", grid_func[-10:] \n",
    "    if len(grid_func) > 10 \n",
    "    else grid_func)\n",
    "\n",
    "plt.plot(xs, ys, label=f\"n = {n}, N = {N}, [a, b] = [{A}, {B}]\")\n",
    "plt.title(\"Наименьших квадратов (дискретный)\")\n",
    "plt.legend()\n",
    "plt.grid()\n",
    "plt.show()"
   ]
  },
  {
   "cell_type": "markdown",
   "metadata": {},
   "source": [
    "Наименьших квадратов (интегральный):"
   ]
  },
  {
   "cell_type": "code",
   "execution_count": 12,
   "metadata": {},
   "outputs": [],
   "source": [
    "n = 100\n",
    "xs = [round(x, 3) for x in np.linspace(A, B, n)]"
   ]
  },
  {
   "cell_type": "code",
   "execution_count": 13,
   "metadata": {},
   "outputs": [],
   "source": [
    "def k(i, j):\n",
    "    res = integrate.quad(\n",
    "        lambda x: \\\n",
    "            (ddphi(j, x) + q(x) * phi(j, x)) * \\\n",
    "            (ddphi(i, x) + q(x) * phi(i, x)),\n",
    "        A, B)[0]\n",
    "    return res\n",
    "\n",
    "def c(i):\n",
    "    res = integrate.quad(\n",
    "        lambda x: f(x) * ( ddphi(i, x) + q(x)*phi(i, x)),\n",
    "        A, B)[0]\n",
    "    return res"
   ]
  },
  {
   "cell_type": "code",
   "execution_count": 14,
   "metadata": {},
   "outputs": [
    {
     "name": "stdout",
     "output_type": "stream",
     "text": [
      "first 10 of ai coeffs:\n",
      " [0.821, 0.0, -0.089, -0.0, 0.015, -0.0, -0.001, -0.0, 0.0, -0.0]\n",
      "\n",
      "some points of grid func:\n",
      "(x, y(x))\n",
      " [(-1.0, 0.0), (-0.98, 0.03), (-0.96, 0.059), (-0.939, 0.089), (-0.919, 0.118), (-0.899, 0.146), (-0.879, 0.173), (-0.859, 0.2), (-0.838, 0.228), (-0.818, 0.254)] ...\n",
      "... [(0.818, 0.254), (0.838, 0.228), (0.859, 0.2), (0.879, 0.173), (0.899, 0.146), (0.919, 0.118), (0.939, 0.089), (0.96, 0.059), (0.98, 0.03), (1.0, 0.0)]\n"
     ]
    },
    {
     "data": {
      "image/png": "[encoded data removed]",
      "text/plain": [
       "<Figure size 432x288 with 1 Axes>"
      ]
     },
     "metadata": {
      "needs_background": "light"
     },
     "output_type": "display_data"
    }
   ],
   "source": [
    "syst = []\n",
    "vec = []\n",
    "\n",
    "for i in range(1, n+1):\n",
    "    r = []\n",
    "    for j in range(1, n+1):\n",
    "        r.append(k(i, j))\n",
    "    syst.append(r)\n",
    "    vec.append(c(i))\n",
    "\n",
    "ais = np.linalg.solve(syst, vec)\n",
    "\n",
    "ais = np.linalg.solve(syst, vec)\n",
    "ys = [round(y(x), 3) for x in xs]\n",
    "ais = [round(a, 3) for a in ais]\n",
    "\n",
    "grid_func = list(zip(xs, ys))\n",
    "print(\"first 10 of ai coeffs:\\n\", list(ais[:10]))\n",
    "print()\n",
    "print(\"some points of grid func:\\n(x, y(x))\\n\", grid_func[:10], \"...\\n...\", grid_func[-10:] \n",
    "    if len(grid_func) > 10 \n",
    "    else grid_func)\n",
    "\n",
    "plt.plot(xs, ys, label=f\"n = {n}, [a, b] = [{A}, {B}]\")\n",
    "plt.title(\"Наименьших квадратов (интегральный)\")\n",
    "plt.legend()\n",
    "plt.grid()\n",
    "plt.show()"
   ]
  }
 ],
 "metadata": {
  "interpreter": {
   "hash": "f985d6923f007876323f44a8554b5aa587091bd3279ca8ee2380750d2fb39d2e"
  },
  "kernelspec": {
   "display_name": "Python 3.8.2 32-bit",
   "name": "python3"
  },
  "language_info": {
   "codemirror_mode": {
    "name": "ipython",
    "version": 3
   },
   "file_extension": ".py",
   "mimetype": "text/x-python",
   "name": "python",
   "nbconvert_exporter": "python",
   "pygments_lexer": "ipython3",
   "version": "3.8.2"
  },
  "orig_nbformat": 4
 },
 "nbformat": 4,
 "nbformat_minor": 2
}
