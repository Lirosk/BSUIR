{
 "cells": [
  {
   "cell_type": "code",
   "execution_count": 4,
   "metadata": {},
   "outputs": [],
   "source": [
    "%matplotlib widget\n",
    "import random\n",
    "import matplotlib.pyplot as plt\n",
    "import numpy as np\n",
    "from scipy import stats\n",
    "import ipywidgets as widgets\n",
    "import sympy as sp\n",
    "from sympy import oo"
   ]
  },
  {
   "cell_type": "markdown",
   "metadata": {},
   "source": [
    "Экспоненциальное распределение"
   ]
  },
  {
   "cell_type": "code",
   "execution_count": 2,
   "metadata": {},
   "outputs": [],
   "source": [
    "def rand(a=0, b=1):\n",
    "    return random.random() * (b - a) + a\n",
    "\n",
    "plt.close('all')"
   ]
  },
  {
   "cell_type": "code",
   "execution_count": 3,
   "metadata": {},
   "outputs": [
    {
     "data": {
      "application/vnd.jupyter.widget-view+json": {
       "model_id": "7938c8c444834529bce6ee89501496ea",
       "version_major": 2,
       "version_minor": 0
      },
      "text/plain": [
       "interactive(children=(FloatText(value=0.0, description='start'), FloatText(value=1.0, description='end'), IntS…"
      ]
     },
     "metadata": {},
     "output_type": "display_data"
    }
   ],
   "source": [
    "def do(start, end, n, conf, l):\n",
    "    # plt.close('all')\n",
    "\n",
    "    if start == end:\n",
    "        print('start == end')\n",
    "        return\n",
    "    \n",
    "    if (start >= end):\n",
    "        print('start <= end')\n",
    "        return\n",
    "\n",
    "    x_s, y_s, l_s = sp.symbols('x, y, l', real=True, positive=True)\n",
    "    f = l_s * sp.exp(-l_s * (x_s - start))\n",
    "    weight = sp.integrate(f, (x_s, start, end))\n",
    "    f = sp.simplify(f / weight)\n",
    "    F = sp.integrate(f, (x_s, start, x_s))\n",
    "    G = sp.solve(F - y_s, x_s)[0]\n",
    "\n",
    "    emp_xs = [float(G.subs({y_s: rand(), l_s: l})) for _ in range(n)]\n",
    "\n",
    "    fig, ax = plt.subplots()\n",
    "\n",
    "    theor_xs = np.linspace(start, end, n)\n",
    "    theor_ys = np.array([float(f.subs({x_s: x, l_s: l})) for x in theor_xs])\n",
    "\n",
    "    n_bins = int(np.sqrt(n))\n",
    "\n",
    "    mx = np.mean(theor_ys)\n",
    "    dx = np.var(theor_ys)\n",
    "    sd = np.std(theor_ys)\n",
    "\n",
    "    print(f'{mx = }')\n",
    "    print(f'{dx = }')\n",
    "    print(f'{sd = }')\n",
    "\n",
    "    print(f'num of bins: {n_bins}\\n')\n",
    "\n",
    "    bins_emp_ys, intervals, *_ = ax.hist(emp_xs, bins=n_bins, density=True)\n",
    "    ax.plot(theor_xs, theor_ys)\n",
    "    \n",
    "    intervals = intervals[1:]\n",
    "    bins_theor_ys = np.array([float(f.subs({x_s: x, l_s: l})) for x in intervals])\n",
    "\n",
    "    ty = stats.t.ppf(conf, n - 1)\n",
    "    delta = ty * sd / np.sqrt(n)\n",
    "\n",
    "    print(f'{mx - delta} < M < {mx + delta}')\n",
    "\n",
    "    alpha1 = (1 - conf) / 2\n",
    "    alpha2 = (1 + conf) / 2\n",
    "\n",
    "    left = np.sqrt((n - 1) / stats.chi2.ppf(alpha2, n - 1)) * sd\n",
    "    right = np.sqrt((n - 1) / stats.chi2.ppf(alpha1, n - 1)) * sd\n",
    "\n",
    "    print(f'{left} < \\u03C3 < {right}')\n",
    "\n",
    "    res = 0\n",
    "    for i in range(n_bins):\n",
    "        res += np.power(bins_theor_ys[i] - bins_emp_ys[i], 2) / bins_theor_ys[i]\n",
    "    res *= n_bins\n",
    "\n",
    "    chi2_crit = stats.chi2.ppf(conf, n_bins)\n",
    "\n",
    "    can_be_true = res < chi2_crit\n",
    "    print(\n",
    "        f'\\nksi2: {res} {\"<\" if can_be_true  else \">\"} {chi2_crit} => {can_be_true}')\n",
    "\n",
    "    plt.show()\n",
    "\n",
    "\n",
    "start = widgets.FloatText(value=0)\n",
    "end = widgets.FloatText(value=1)\n",
    "n = widgets.IntSlider(value=int(1e3), min=1, max=1e4)\n",
    "conf = widgets.FloatSlider(value=0.95, min=0, max=1)\n",
    "l = widgets.FloatText(value=4.2, description='lambda: ')\n",
    "\n",
    "widgets.interactive(do, start=start, end=end, n=n, conf=conf, l=l)\n"
   ]
  },
  {
   "cell_type": "markdown",
   "metadata": {},
   "source": [
    "# Задание 2, вар. 4\n",
    "Распределение Бернулли"
   ]
  },
  {
   "cell_type": "code",
   "execution_count": 9,
   "metadata": {},
   "outputs": [],
   "source": [
    "def general_bernoulli(x, p):\n",
    "    if x < p:\n",
    "        return 0\n",
    "    \n",
    "    return 1\n"
   ]
  },
  {
   "cell_type": "code",
   "execution_count": 10,
   "metadata": {},
   "outputs": [
    {
     "data": {
      "application/vnd.jupyter.widget-view+json": {
       "model_id": "1c034fcad5b34b1bb3ada919c1a93fff",
       "version_major": 2,
       "version_minor": 0
      },
      "text/plain": [
       "interactive(children=(FloatSlider(value=0.42, description='p', max=1.0), IntSlider(value=1000, description='n'…"
      ]
     },
     "execution_count": 10,
     "metadata": {},
     "output_type": "execute_result"
    }
   ],
   "source": [
    "def bernoulli(p, n, conf):\n",
    "    fig, ax = plt.subplots()\n",
    "\n",
    "    n_bins = int(np.sqrt(n))\n",
    "    n_d_bins = 2\n",
    "\n",
    "    start = 0\n",
    "    end = 1\n",
    "\n",
    "    theor_vals = {0: 1-p, 1: p}\n",
    "    xs = np.linspace(start, end, n_d_bins)\n",
    "    ys = {0: 0, 1: 0}\n",
    "\n",
    "    for i in range(n):\n",
    "        ys[stats.bernoulli.rvs(p)] += 1\n",
    "\n",
    "    for k in ys:\n",
    "        ys[k] /= n\n",
    "\n",
    "    probs, *_ = ax.bar(ys.keys(), ys.values())\n",
    "    print(ys)\n",
    "\n",
    "    vals = list(ys.values())\n",
    "\n",
    "    mx = np.mean(vals)\n",
    "    dx = np.var(vals)\n",
    "    sd = np.std(vals)\n",
    "\n",
    "    print(f'{mx = }')\n",
    "    print(f'{dx = }')\n",
    "    print(f'{sd = }\\n')\n",
    "\n",
    "    ty = stats.t.ppf(conf, n - 1)\n",
    "    delta = ty * sd / np.sqrt(n)\n",
    "\n",
    "    print(f'{mx - delta} < M < {mx + delta}')\n",
    "\n",
    "    alpha1 = (1 - conf) / 2\n",
    "    alpha2 = (1 + conf) / 2\n",
    "\n",
    "    left = np.sqrt((n - 1) / stats.chi2.ppf(alpha2, n - 1)) * sd\n",
    "    right = np.sqrt((n - 1) / stats.chi2.ppf(alpha1, n - 1)) * sd\n",
    "\n",
    "    print(f'{left} < \\u03C3 < {right}')\n",
    "\n",
    "    bins = np.linspace(start, end, n_bins)\n",
    "\n",
    "    skipped_vals = 0\n",
    "\n",
    "    res = 0\n",
    "    for k, v in ys.items():\n",
    "        if (v == 0):\n",
    "            skipped_vals += 1\n",
    "            continue\n",
    "        res += np.power(theor_vals[k] - v, 2) / theor_vals[k]\n",
    "    res *= n_bins\n",
    "\n",
    "    chi2_crit = stats.chi2.ppf(conf, n_bins - skipped_vals)\n",
    "\n",
    "    can_be_true = res < chi2_crit\n",
    "    print(f'\\nksi2: {res} {\"<\" if can_be_true  else \">\"} {chi2_crit} => {can_be_true}')\n",
    "\n",
    "    plt.show()\n",
    "\n",
    "p = widgets.FloatSlider(value=0.42, min=0, max=1)\n",
    "n = widgets.IntSlider(value=1e3, min=1, max=1e4)\n",
    "widgets.interactive(bernoulli, n=n, p=p, conf=conf)"
   ]
  }
 ],
 "metadata": {
  "kernelspec": {
   "display_name": "Python 3 (ipykernel)",
   "language": "python",
   "name": "python3"
  },
  "language_info": {
   "codemirror_mode": {
    "name": "ipython",
    "version": 3
   },
   "file_extension": ".py",
   "mimetype": "text/x-python",
   "name": "python",
   "nbconvert_exporter": "python",
   "pygments_lexer": "ipython3",
   "version": "3.9.12"
  },
  "vscode": {
   "interpreter": {
    "hash": "c8ea2be8e3a80cdd0813e192120f87fec1980ce711e95cb955e3a82156923bb6"
   }
  }
 },
 "nbformat": 4,
 "nbformat_minor": 4
}
