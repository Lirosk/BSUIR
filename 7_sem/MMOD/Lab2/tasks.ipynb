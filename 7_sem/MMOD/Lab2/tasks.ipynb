{
 "cells": [
  {
   "cell_type": "markdown",
   "metadata": {},
   "source": [
    "# Task 1"
   ]
  },
  {
   "cell_type": "code",
   "execution_count": 344,
   "metadata": {},
   "outputs": [],
   "source": [
    "import numbers\n",
    "import random\n",
    "import numpy as np\n",
    "from scipy import stats\n",
    "from matplotlib import pyplot\n",
    "from numpy import mean, var, std\n",
    "from collections import Counter\n",
    "\n",
    "\n",
    "SEED = 9430\n",
    "\n",
    "\n",
    "def get_random_nums(n):\n",
    "    random.seed(SEED)\n",
    "    numbers = [random.random() for _ in range(n)]\n",
    "    return numbers\n",
    "\n",
    "\n",
    "def get_interval_mu(conf, mu, sigma, n):\n",
    "    t = stats.t.ppf(conf, n - 1) # Critical value (from \"table\")\n",
    "    delta = t * sigma / np.sqrt(n)\n",
    "\n",
    "    left_border = mu - delta\n",
    "    right_border =  mu + delta\n",
    "    \n",
    "    return left_border, right_border\n",
    "\n",
    "\n",
    "def get_interval_sigma(conf, sigma, n):\n",
    "    alpha1 = (1 - conf) / 2.0\n",
    "    alpha2 = (1 + conf) / 2.0\n",
    "\n",
    "    left_border = np.sqrt((n - 1) / stats.chi2.ppf(alpha2, n - 1)) * sigma\n",
    "    right_border = np.sqrt((n - 1) / stats.chi2.ppf(alpha1, n - 1)) * sigma\n",
    "\n",
    "    return left_border, right_border\n",
    "\n",
    "\n",
    "def chi2_test(theor, emp, conf, num_of_intervals):\n",
    "    n = len(theor)\n",
    "    result = 0\n",
    "\n",
    "    for i in range(n):\n",
    "        result = result + ((theor[i] - emp[i]) ** 2) / theor[i]\n",
    "    result *= n\n",
    "\n",
    "    chi2_crit = stats.chi2.ppf(conf, num_of_intervals)\n",
    "\n",
    "    if result < chi2_crit: return f\"PASSED ({result} < {chi2_crit})\"\n",
    "    else: return f\"Failed ({result} > {chi2_crit})\"\n"
   ]
  },
  {
   "cell_type": "markdown",
   "metadata": {},
   "source": [
    "### Uniform distribution"
   ]
  },
  {
   "cell_type": "code",
   "execution_count": 381,
   "metadata": {},
   "outputs": [
    {
     "data": {
      "image/png": "[encoded data removed]",
      "text/plain": [
       "<Figure size 640x480 with 1 Axes>"
      ]
     },
     "metadata": {},
     "output_type": "display_data"
    },
    {
     "name": "stdout",
     "output_type": "stream",
     "text": [
      "Expected value: 1.9927083639071164\n",
      "Dispersion: 1.323745413636775\n",
      "Standard deviation: 1.1505413567694014\n",
      "\n",
      "Expected value interval (with 0.95% confidence): (1.973781889172518, 2.0116348386417147)\n",
      "Standard deviation interval (with 0.95% confidence): (1.134814880217014, 1.1667129619787513)\n",
      "\n",
      "Chi2 test (with 0.95% confidence): PASSED (92.51941976243316 < 119.97855311324912)\n"
     ]
    }
   ],
   "source": [
    "def get_uniform_nums(a, b, n):\n",
    "    numbers = get_random_nums(n)\n",
    "\n",
    "    for i in range(n):\n",
    "        numbers[i] = (b - a) * numbers[i] + a\n",
    "    \n",
    "    return numbers\n",
    "\n",
    "\n",
    "def u_f(a, b):\n",
    "    return 1.0 / (b - a)\n",
    "\n",
    "\n",
    "def get_u_theor(a, b, n):\n",
    "    theor = []\n",
    "\n",
    "    for _ in range(n):\n",
    "        theor.append(u_f(a, b))\n",
    "\n",
    "    return theor\n",
    "\n",
    "\n",
    "def uniform_distribution():\n",
    "    n = 10 ** 4\n",
    "    a = 0\n",
    "    b = 4\n",
    "    n_bins = 150\n",
    "    conf = 0.95\n",
    "\n",
    "    numbers = get_uniform_nums(a, b, n)\n",
    "    probs, _, _ = pyplot.hist(numbers, bins=n_bins, density=True)\n",
    "    pyplot.show()\n",
    "\n",
    "    u_mean = mean(numbers)\n",
    "    u_var = var(numbers)\n",
    "    u_std = std(numbers)\n",
    "    print(\"Expected value:\", u_mean)\n",
    "    print(\"Dispersion:\", u_var)\n",
    "    print(\"Standard deviation:\", u_std)\n",
    "\n",
    "    print()\n",
    "\n",
    "    mu_left_border, mu_right_border = get_interval_mu(conf, u_mean, u_std, n)\n",
    "    sigma_left_border, sigma_right_border = get_interval_sigma(conf, u_std, n)\n",
    "    print(f\"Expected value interval (with {conf}% confidence):\", (mu_left_border, mu_right_border))\n",
    "    print(f\"Standard deviation interval (with {conf}% confidence):\", (sigma_left_border, sigma_right_border))\n",
    "\n",
    "    print()\n",
    "\n",
    "    theor = get_u_theor(a, b, len(probs))\n",
    "    result = chi2_test(theor, probs, 1 - conf, n_bins - 3)\n",
    "    print(f\"Chi2 test (with {conf}% confidence):\", result)\n",
    "\n",
    "uniform_distribution()"
   ]
  },
  {
   "cell_type": "markdown",
   "metadata": {},
   "source": [
    "# Task 2 Var. 25"
   ]
  },
  {
   "cell_type": "markdown",
   "metadata": {},
   "source": [
    "### Power distribution"
   ]
  },
  {
   "cell_type": "code",
   "execution_count": 385,
   "metadata": {},
   "outputs": [
    {
     "data": {
      "image/png": "[encoded data removed]",
      "text/plain": [
       "<Figure size 640x480 with 1 Axes>"
      ]
     },
     "metadata": {},
     "output_type": "display_data"
    },
    {
     "name": "stdout",
     "output_type": "stream",
     "text": [
      "Expected value: 15.49038\n",
      "Dispersion: 14.9004474556\n",
      "Standard deviation: 3.86010977248057\n",
      "\n",
      "Expected value interval (with 0.99% confidence): (15.461982423702722, 15.518777576297278)\n",
      "Standard deviation interval (with 0.99% confidence): (3.8379954720416585, 3.8824632432852706)\n",
      "\n",
      "Chi2 test (with 0.99% confidence): PASSED (0.03306528707576831 < 6.407759777738935)\n"
     ]
    }
   ],
   "source": [
    "def get_power_distr_vals(a, b, bins, c):\n",
    "    vals = {}\n",
    "    step = (b - a) / bins\n",
    "\n",
    "    for i in range(bins):\n",
    "        x = a + step * i \n",
    "        vals[x] = (c * x ** (c - 1)) # x : denstity\n",
    "\n",
    "    n = sum(list(vals.values())) # Normalizing\n",
    "    for key in vals:\n",
    "        vals[key] = vals[key] / n\n",
    "\n",
    "    return vals\n",
    "\n",
    "\n",
    "def get_power_nums(a, b, n, c, power_distr_vals):\n",
    "    rand_numbers = get_random_nums(n)\n",
    "    borders = list(power_distr_vals)\n",
    "    numbers = []\n",
    "\n",
    "    for i in range(n):\n",
    "        number = (b - a) * (rand_numbers[i] ** (1 / c)) + a\n",
    "        for j in range(len(borders)):\n",
    "            if (j == len(borders) - 1 or \n",
    "                borders[j] < number < borders[j + 1]):\n",
    "                numbers.append(borders[j])\n",
    "                break\n",
    "    \n",
    "    return numbers\n",
    "\n",
    "def power_distribution():\n",
    "    n = 10 ** 5\n",
    "    a = 1\n",
    "    b = 21\n",
    "    c = 3\n",
    "    n_bins = b - a\n",
    "    conf = 0.99\n",
    "\n",
    "    theor_vals = get_power_distr_vals(a, b, n_bins, c)\n",
    "    numbers = get_power_nums(a, b, n, c, theor_vals)\n",
    "    numbers.sort()\n",
    "\n",
    "    emp_vals = {x: count / n for x, count in Counter(numbers).items()}\n",
    "    pyplot.bar(emp_vals.keys(), emp_vals.values())\n",
    "    pyplot.show()\n",
    "\n",
    "    p_mean = mean(numbers)\n",
    "    p_var = var(numbers)\n",
    "    p_std = std(numbers)\n",
    "    print(\"Expected value:\", p_mean)\n",
    "    print(\"Dispersion:\", p_var)\n",
    "    print(\"Standard deviation:\", p_std)\n",
    "\n",
    "    print()\n",
    "\n",
    "    mu_left_border, mu_right_border = get_interval_mu(conf, p_mean, p_std, n)\n",
    "    sigma_left_border, sigma_right_border = get_interval_sigma(conf, p_std, n)\n",
    "    print(f\"Expected value interval (with {conf}% confidence):\", (mu_left_border, mu_right_border))\n",
    "    print(f\"Standard deviation interval (with {conf}% confidence):\", (sigma_left_border, sigma_right_border))\n",
    "\n",
    "    print()\n",
    "\n",
    "    result = chi2_test(\n",
    "                        list(theor_vals.values()), \n",
    "                        list(emp_vals.values()), \n",
    "                        1 - conf, \n",
    "                        n_bins - 3)\n",
    "    print(f\"Chi2 test (with {conf}% confidence):\", result)\n",
    "\n",
    "power_distribution()\n",
    "    "
   ]
  }
 ],
 "metadata": {
  "kernelspec": {
   "display_name": "Python 3.10.7 64-bit",
   "language": "python",
   "name": "python3"
  },
  "language_info": {
   "codemirror_mode": {
    "name": "ipython",
    "version": 3
   },
   "file_extension": ".py",
   "mimetype": "text/x-python",
   "name": "python",
   "nbconvert_exporter": "python",
   "pygments_lexer": "ipython3",
   "version": "3.10.7"
  },
  "orig_nbformat": 4,
  "vscode": {
   "interpreter": {
    "hash": "369f2c481f4da34e4445cda3fffd2e751bd1c4d706f27375911949ba6bb62e1c"
   }
  }
 },
 "nbformat": 4,
 "nbformat_minor": 2
}
