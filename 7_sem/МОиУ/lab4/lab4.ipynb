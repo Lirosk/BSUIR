{
 "cells": [
  {
   "cell_type": "code",
   "execution_count": 5,
   "metadata": {},
   "outputs": [],
   "source": [
    "import numpy as np\n",
    "import copy"
   ]
  },
  {
   "cell_type": "code",
   "execution_count": 6,
   "metadata": {},
   "outputs": [],
   "source": [
    "test_cases = [\n",
    "    [\n",
    "        syst := [\n",
    "            [-2, -1, -4, 1, 0],\n",
    "            [-2, -2, -2, 0, 1],\n",
    "        ],\n",
    "        b := [-1, -3./2],\n",
    "        c := [-4, -3, -7, 0, 0],\n",
    "        Jb := [3, 4],\n",
    "        res := [1/4., 1/2., 0, 0, 0]\n",
    "    ],\n",
    "    [\n",
    "        syst := [\n",
    "            [1, -5, 1, 0],\n",
    "            [-3, 1, 0, 1],\n",
    "        ],\n",
    "        b := [-10, -12],\n",
    "        c := [0, -6, 1, 0],\n",
    "        Jb := [2, 3],\n",
    "        res := [5, 3, 0, 0]\n",
    "    ],\n",
    "    [\n",
    "        syst := [\n",
    "            [-3, 1, 2, 0],\n",
    "            [1, -2, 0, 1],\n",
    "        ],\n",
    "        b := [-3, -4],\n",
    "        c := [-3, -3, 2, 1],\n",
    "        Jb := [2, 3],\n",
    "        res := [2, 3, 0, 0]\n",
    "    ],\n",
    "]"
   ]
  },
  {
   "cell_type": "code",
   "execution_count": 7,
   "metadata": {},
   "outputs": [],
   "source": [
    "def Dual_simplex(_syst, _b, _c, _Jb):\n",
    "    n = len(_syst[0])\n",
    "\n",
    "    _syst = np.array(copy.deepcopy(_syst), dtype=float)\n",
    "    _b = np.array(_b[:], dtype=float)\n",
    "    _Jb = np.array(_Jb[:], dtype=int)\n",
    "    _c = np.array(_c[:], dtype=float)\n",
    "    \n",
    "\n",
    "    while True:\n",
    "        _x = np.array([0] * n, dtype=float)\n",
    "        _x[_Jb] = _b\n",
    "\n",
    "        _Ab = _syst[:, _Jb]\n",
    "        _cb = _c[_Jb]\n",
    "\n",
    "        _Ab_inv = np.linalg.inv(_Ab)\n",
    "\n",
    "        y = np.matmul(_cb, _Ab_inv)\n",
    "\n",
    "        not_Jb = np.array([i for i in range(n) if i not in _Jb])\n",
    "\n",
    "        pseudo_plan = np.matmul(_Ab_inv, _b)\n",
    "\n",
    "        _x[_Jb] = pseudo_plan\n",
    "\n",
    "        if all(_x >= 0):\n",
    "            print(\"План отпимальный\")\n",
    "            print(f'F{tuple([round(xj, 3) for xj in _x])} = {np.array(_c).dot(_x)}')\n",
    "            return\n",
    "\n",
    "        minimum_pseudo_x_index = np.argmin(pseudo_plan)\n",
    "\n",
    "        delta_y = _Ab_inv[minimum_pseudo_x_index]\n",
    "\n",
    "        _mu = np.array([np.inf] * n)\n",
    "        _mu[not_Jb] = np.matmul(delta_y, _syst[:, not_Jb])\n",
    "\n",
    "        if not any(muj < 0 for muj in _mu):\n",
    "            print(\"Задача несовместна\")\n",
    "            return\n",
    "\n",
    "        sigmas = []\n",
    "        for j in not_Jb:\n",
    "            if _mu[j] >= 0:\n",
    "                sigmas.append(np.inf)\n",
    "            else:\n",
    "                sigmas.append((_c[j] - _syst[:, j].dot(y)) / _mu[j])\n",
    "\n",
    "        sigma0 = min(sigmas)\n",
    "        if (sigma0 == np.inf):\n",
    "            print('Целевая функция неограничена сверху')\n",
    "            return\n",
    "\n",
    "        sigma0_index = not_Jb[np.argmin(sigmas)]\n",
    "        _Jb[minimum_pseudo_x_index] = sigma0_index\n",
    "\n",
    "        y += sigma0 * delta_y"
   ]
  },
  {
   "cell_type": "code",
   "execution_count": 8,
   "metadata": {},
   "outputs": [
    {
     "name": "stdout",
     "output_type": "stream",
     "text": [
      "План отпимальный\n",
      "F(0.25, 0.5, 0.0, 0.0, 0.0) = -2.5\n",
      "Правильный ответ:\n",
      "x = (0.25, 0.5, 0, 0, 0)\n",
      "\n",
      "\n",
      "План отпимальный\n",
      "F(5.0, 3.0, 0.0, 0.0) = -18.0\n",
      "Правильный ответ:\n",
      "x = (5, 3, 0, 0)\n",
      "\n",
      "\n",
      "План отпимальный\n",
      "F(2.0, 3.0, 0.0, 0.0) = -15.0\n",
      "Правильный ответ:\n",
      "x = (2, 3, 0, 0)\n",
      "\n",
      "\n"
     ]
    }
   ],
   "source": [
    "for *data, res in test_cases:\n",
    "    Dual_simplex(*data)\n",
    "    print(f'Правильный ответ:\\nx = {tuple(res)}\\n\\n')"
   ]
  }
 ],
 "metadata": {
  "interpreter": {
   "hash": "c8ea2be8e3a80cdd0813e192120f87fec1980ce711e95cb955e3a82156923bb6"
  },
  "kernelspec": {
   "display_name": "Python 3.10.1 64-bit",
   "language": "python",
   "name": "python3"
  },
  "language_info": {
   "codemirror_mode": {
    "name": "ipython",
    "version": 3
   },
   "file_extension": ".py",
   "mimetype": "text/x-python",
   "name": "python",
   "nbconvert_exporter": "python",
   "pygments_lexer": "ipython3",
   "version": "3.10.1"
  },
  "orig_nbformat": 4
 },
 "nbformat": 4,
 "nbformat_minor": 2
}
