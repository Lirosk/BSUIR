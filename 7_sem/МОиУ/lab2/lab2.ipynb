{
 "cells": [
  {
   "cell_type": "markdown",
   "metadata": {},
   "source": [
    "Необходимые модули:"
   ]
  },
  {
   "cell_type": "code",
   "execution_count": 17,
   "metadata": {},
   "outputs": [],
   "source": [
    "import numpy as np\n",
    "import copy"
   ]
  },
  {
   "cell_type": "markdown",
   "metadata": {},
   "source": [
    "Входные данные:"
   ]
  },
  {
   "cell_type": "code",
   "execution_count": 18,
   "metadata": {},
   "outputs": [],
   "source": [
    "test_cases = [\n",
    "    [\n",
    "        syst := [\n",
    "            [-1, 1, 1, 0, 0],\n",
    "            [1, 0, 0, 1, 0],\n",
    "            [0, 1, 0, 0, 1],\n",
    "        ],\n",
    "        b := [1, 3, 2],\n",
    "        c := [1, 1, 0, 0, 0],\n",
    "        x := [0, 0, 1, 3, 2],\n",
    "        Jb := [2, 3, 4],\n",
    "        res := [3, 2, 2, 0, 0],\n",
    "    ],\n",
    "    [\n",
    "        syst := [\n",
    "            [1, 2, 1, 0, 0, 0],\n",
    "            [2, 1, 0, 1, 0, 0],\n",
    "            [1, 0, 0, 0, 1, 0],\n",
    "            [0, 1, 0, 0, 0, 1]\n",
    "        ],\n",
    "        b := [10, 11, 5, 4],\n",
    "        c := [20, 26, 0, 0, 0, 1],\n",
    "        x := [0, 0, 10, 11, 5, 4],\n",
    "        Jb := [2, 3, 4, 5],\n",
    "        res := [4, 3, 0, 0, 1, 1],\n",
    "    ],\n",
    "    [\n",
    "        syst := [\n",
    "            [1, 1, 1, 0, 0, 0],\n",
    "            [2, 5, 0, 1, 0, 0],\n",
    "            [1, 0, 0, 0, 1, 0],\n",
    "            [1, 0, 0, 0, 0, 1]\n",
    "        ],\n",
    "        b := [9, 30, 5, 7],\n",
    "        c := [19, 29, -1, 0, 0, 0],\n",
    "        x := [0, 0, 9, 30, 5, 7],\n",
    "        Jb := [2, 3, 4, 5],\n",
    "        res := [5, 4, 0, 0, 0, 2],\n",
    "    ]\n",
    "]"
   ]
  },
  {
   "cell_type": "markdown",
   "metadata": {},
   "source": [
    "Функции, которые понадобятся для решения:"
   ]
  },
  {
   "cell_type": "code",
   "execution_count": 19,
   "metadata": {},
   "outputs": [],
   "source": [
    "def InvMatrix(A, invA, x, i):\n",
    "    A[:,i] = x[:]\n",
    "    l = invA.dot(x)\n",
    "    if (l[i] == 0):\n",
    "        print(\"Матрица A необратима\")\n",
    "        return\n",
    "    ln = l.copy()\n",
    "    ln[i] = -1\n",
    "    ls = (-1/l[i]) * ln\n",
    "    Q = np.eye(len(A))\n",
    "    Q[:,i] = ls\n",
    "    return np.matmul(Q, invA)\n",
    "\n",
    "def Simplex(syst, b, c, x, Jb):\n",
    "    syst = np.array(copy.deepcopy(syst))\n",
    "    b = np.array(b[:])\n",
    "    c = np.array(c[:])\n",
    "    x = np.array(x[:])\n",
    "    Jb = np.array(Jb[:])\n",
    "\n",
    "    n = len(x)\n",
    "\n",
    "    j0_new = -1\n",
    "\n",
    "    # По множеству базисных индексов составляются матрица Ab, вектор cb. \n",
    "    cb = []\n",
    "    Ab = np.zeros([len(Jb)] * 2)\n",
    "    for i, j in enumerate(Jb):\n",
    "        Ab[:, i] = syst[:, j]\n",
    "        cb.append(c[j])\n",
    "\n",
    "    invAb = np.linalg.inv(Ab)\n",
    "\n",
    "    while True:\n",
    "        # вектор потенциалов:\n",
    "        u = np.dot(cb, invAb)\n",
    "\n",
    "        # вектор оценок:\n",
    "        delta = np.matmul(u, syst) - c\n",
    "\n",
    "        optimal = True\n",
    "        for i in range(n):\n",
    "            if i not in Jb and delta[i] < 0:\n",
    "                optimal = False\n",
    "                break\n",
    "        \n",
    "        if optimal:\n",
    "            F = np.dot(c, x)\n",
    "            print(\"План отпимальный\")\n",
    "            print(f\"F{tuple(x)} = {F}\")\n",
    "            \n",
    "            return x, F, Jb\n",
    "\n",
    "        j0 = 0\n",
    "        for i in range(len(delta)):\n",
    "            if (delta[i] < 0 and i not in Jb):\n",
    "                j0 = i\n",
    "                break\n",
    "\n",
    "        z = np.matmul(invAb, syst[:,j0])\n",
    "    \n",
    "        thetas = []  \n",
    "        for i in range(len(Jb)):\n",
    "            thetas.append(x[Jb[i]] / z[i] if z[i] > 0 else np.inf)\n",
    "\n",
    "        theta0 = min(thetas)\n",
    "        if (theta0 == np.inf):\n",
    "            print('Целевая функция неограничена сверху')\n",
    "            return\n",
    "        j0_new = thetas.index(theta0)\n",
    "\n",
    "        # если один из индексов базисный, а другой нет -\n",
    "        # то меняем их местами\n",
    "        Jb_new = Jb.copy()\n",
    "        Jb_new[j0_new] = j0\n",
    "\n",
    "        # обновляем компоненты текущего базисного множества\n",
    "        for i in range(len(x)):\n",
    "            if (i not in Jb):\n",
    "                x[i] = 0\n",
    "\n",
    "        for i, j in enumerate(Jb):\n",
    "            x[j] -= theta0 * z[i]\n",
    "        x[j0] = theta0\n",
    "\n",
    "        # базис для следующих итераций\n",
    "        Jb[:] = Jb_new\n",
    "\n",
    "        # По множеству базисных индексов составляются матрица Ab, вектор cb. \n",
    "        cb = [] \n",
    "        for j in Jb:\n",
    "            cb.append(c[j])\n",
    "\n",
    "        # находим матрицу, обратную Ab,\n",
    "        # с заменой столбца\n",
    "        invAb = InvMatrix(Ab, invAb, syst[:,j0], j0_new)"
   ]
  },
  {
   "cell_type": "markdown",
   "metadata": {},
   "source": [
    "Решение:"
   ]
  },
  {
   "cell_type": "code",
   "execution_count": 20,
   "metadata": {},
   "outputs": [
    {
     "name": "stdout",
     "output_type": "stream",
     "text": [
      "delta = array([-1., -1.,  0.,  0.,  0.])\n",
      "delta = array([ 0., -1.,  0.,  1.,  0.])\n",
      "delta = array([0., 0., 0., 1., 1.])\n",
      "План отпимальный\n",
      "F(3, 2, 2, 0, 0) = 5\n",
      "правильный ответ:\n",
      "F(3, 2, 2, 0, 0) = 5\n",
      "\n",
      "\n",
      "delta = array([-20., -25.,   0.,   0.,   0.,   0.])\n",
      "delta = array([  0., -25.,   0.,   0.,  20.,   0.])\n",
      "delta = array([  0.,   0.,   0.,  25., -30.,   0.])\n",
      "delta = array([ 0.,  0., 10.,  5.,  0.,  0.])\n",
      "План отпимальный\n",
      "F(4, 3, 0, 0, 1, 1) = 159\n",
      "правильный ответ:\n",
      "F(4, 3, 0, 0, 1, 1) = 159\n",
      "\n",
      "\n",
      "delta = array([-20., -30.,   0.,   0.,   0.,   0.])\n",
      "delta = array([  0., -30.,   0.,   0.,  20.,   0.])\n",
      "delta = array([  0.,   0.,  30.,   0., -10.,   0.])\n",
      "delta = array([ 0.00000000e+00,  0.00000000e+00,  1.33333333e+01,  3.33333333e+00,\n",
      "       -1.60982339e-15,  0.00000000e+00])\n",
      "План отпимальный\n",
      "F(5, 4, 0, 0, 0, 2) = 211\n",
      "правильный ответ:\n",
      "F(5, 4, 0, 0, 0, 2) = 211\n",
      "\n",
      "\n"
     ]
    }
   ],
   "source": [
    "for test_case in test_cases:\n",
    "    syst, b, c, x, Jb, res = test_case\n",
    "    x, F, Jb = Simplex(syst, b, c, x, Jb)\n",
    "    print(f'правильный ответ:\\nF{tuple(res)} = {np.array(c).dot(res)}\\n\\n')"
   ]
  }
 ],
 "metadata": {
  "interpreter": {
   "hash": "c8ea2be8e3a80cdd0813e192120f87fec1980ce711e95cb955e3a82156923bb6"
  },
  "kernelspec": {
   "display_name": "Python 3.10.4 64-bit",
   "language": "python",
   "name": "python3"
  },
  "language_info": {
   "codemirror_mode": {
    "name": "ipython",
    "version": 3
   },
   "file_extension": ".py",
   "mimetype": "text/x-python",
   "name": "python",
   "nbconvert_exporter": "python",
   "pygments_lexer": "ipython3",
   "version": "3.10.4"
  },
  "orig_nbformat": 4
 },
 "nbformat": 4,
 "nbformat_minor": 2
}
